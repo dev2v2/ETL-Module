{
 "cells": [
  {
   "cell_type": "markdown",
   "id": "8107e9e1-6cbb-4c95-b757-f18568f4b3f9",
   "metadata": {},
   "source": [
    "# 라이브러리 선언"
   ]
  },
  {
   "cell_type": "code",
   "execution_count": 1,
   "id": "b0989aed-526d-48c1-978d-e5283829337f",
   "metadata": {},
   "outputs": [],
   "source": [
    "# pandas : 데이터 조작, 분석 라이브러리\n",
    "import pandas as pd\n",
    "\n",
    "# os : 운영체제와 상호작용하기 위한 기능 제공\n",
    "import os\n",
    "\n",
    "# sqlalchemy : 파이썬으로 sql db 다루기 위한 라이브러리\n",
    "import sqlalchemy as sa\n",
    "\n",
    "# sys : 내장 모듈 중 하나로, 시스템과 관련된 작업을 수행\n",
    "# argparse에 비해 간단한 스크립트이거나 명령행 인수가 매우 간단한 경우에 적합\n",
    "import sys"
   ]
  },
  {
   "cell_type": "markdown",
   "id": "a05b6c22-11e1-4a52-adc7-e56d2049752d",
   "metadata": {},
   "source": [
    "# 사용된 함수"
   ]
  },
  {
   "cell_type": "code",
   "execution_count": 2,
   "id": "100817bc-0538-4bdb-902a-c659ffe88823",
   "metadata": {},
   "outputs": [],
   "source": [
    "def makeExParameterFile():\n",
    "    data = {\n",
    "        'use_yn': ['n', 'n', 'n', 'n'],\n",
    "        'table_loc': ['n', 'n', 'n', 'y'],\n",
    "        'category': ['0 : Oracle', '1 : mariaDB', '2 : postgre', None],\n",
    "        'db_ip': ['kopo', None, None, None],\n",
    "        'db_id': ['kopo', None, None, None],\n",
    "        'db_pw': ['1521', None, None, None],\n",
    "        'db_port': [None, None, None, None],\n",
    "        'db_name': [None, None, None, None],\n",
    "        'folder_path': ['Enter the folder path where the csv file is located.', None, None, None]\n",
    "    }\n",
    "    locDf = pd.DataFrame(data)\n",
    "    \n",
    "    # 폴더 생성\n",
    "    folder_name = \"../param\"\n",
    "    os.makedirs(folder_name, exist_ok=True)\n",
    "    \n",
    "    # CSV 파일 경로 설정\n",
    "    file_path = os.path.join(folder_name, \"prameter_table_ex.csv\")\n",
    "    \n",
    "    # DataFrame을 CSV 파일로 저장\n",
    "    test = locDf.to_csv(file_path, index=False)\n",
    "    \n",
    "    print(f\"{folder_name}에 prameter_table_ex.csv 가 생성되었습니다.\")"
   ]
  },
  {
   "cell_type": "code",
   "execution_count": 23,
   "id": "51b957c9-51d1-43d5-bcbe-a7533ad42277",
   "metadata": {},
   "outputs": [],
   "source": [
    "def set_engine(category, row):\n",
    "    \"\"\"\n",
    "    db에 접속하는 엔진 설정\n",
    "    (주의!)db종류 추가 될 경우 prefix 추가\n",
    "    \n",
    "    Args:\n",
    "    - category : db종류\n",
    "    - row : df 행의 값\n",
    "    \n",
    "    Returns:\n",
    "    -  engine\n",
    "    \"\"\"\n",
    "    if category == \"0\" :\n",
    "        dbPrefix = \"oracle+cx_oracle\"\n",
    "    elif category == \"1\" :\n",
    "        dbPrefix = \"mysql+pymysql\"\n",
    "    elif category == \"2\" :\n",
    "        dbPrefix = \"postgresql\"\n",
    "    dbIp = row.db_ip\n",
    "    dbId = row.db_id\n",
    "    dbPw = row.db_pw\n",
    "    dbPort = row.db_port\n",
    "    dbName = row.db_name\n",
    "    engine = sa.create_engine(f\"{dbPrefix}://{dbId}:{dbPw}@{dbIp}:{dbPort}/{dbName}\")\n",
    "    return engine"
   ]
  },
  {
   "cell_type": "code",
   "execution_count": 4,
   "id": "32f43621-32c4-4201-9bf1-542a43763cef",
   "metadata": {},
   "outputs": [],
   "source": [
    "def pretreatment(pt):\n",
    "    \"\"\"\n",
    "    데이터 전처리\n",
    "    \n",
    "    Args:\n",
    "    - pt : 전처리 대상 df\n",
    "    \"\"\"   \n",
    "    for column in pt.columns:\n",
    "        pt[column] = pt[column].astype(str)\n",
    "    \n",
    "    for index, row in pt.iterrows():\n",
    "        row.use_yn = row.use_yn.lower()\n",
    "        row.table_loc = row.table_loc.lower()\n",
    "    return pt"
   ]
  },
  {
   "cell_type": "code",
   "execution_count": 5,
   "id": "a8e4dfd2-8fa5-4598-905f-f6797ac9fc1f",
   "metadata": {},
   "outputs": [],
   "source": [
    "def table_exists(table_name, engine):\n",
    "    \"\"\"\n",
    "    테이블 존재 유무확인\n",
    "    \n",
    "    Args:\n",
    "    - table_name : 확인할 테이블 이름\n",
    "    - engine\n",
    "    \"\"\"    \n",
    "    inspector = sa.inspect(engine)\n",
    "    return table_name in inspector.get_table_names()"
   ]
  },
  {
   "cell_type": "markdown",
   "id": "2ed7444e-d211-4688-a52d-fb93be082793",
   "metadata": {},
   "source": [
    "# 매개변수 받기"
   ]
  },
  {
   "cell_type": "code",
   "execution_count": 18,
   "id": "732b43e5-6399-4e36-baa7-12fdcd1094f1",
   "metadata": {},
   "outputs": [
    {
     "name": "stdout",
     "output_type": "stream",
     "text": [
      "파일이름 : parameter_table_kdj, 파일확장자 : xlsx\n"
     ]
    }
   ],
   "source": [
    "#python파일 실행할 때 매개변수를 받아서\n",
    "if len(sys.argv) < 2:\n",
    "    #파라미터 파일 예제 생성\n",
    "    makeExParameterFile()\n",
    "    sys.exit()\n",
    "else:\n",
    "    inputParam = sys.argv[1]\n",
    "\n",
    "# isFile\n",
    "# parameter_table O, parameter_file X : 0 (매개변수가 있고 split 결과 1일 때)\n",
    "# parameter_table X, parameter_file O : 1 (매개변수가 있고 split 결과 2일 때)\n",
    "isFile = 0\n",
    "\n",
    "# 매개변수가 테이블 이름일 때\n",
    "if len(inputParam.split('.')) == 1:\n",
    "    tableName = inputParam\n",
    "    print(f\"DB에 {tableName} 이 있는지 확인합니다.\")\n",
    "\n",
    "    # 파라미터 테이블이 저장된 DB 정보\n",
    "    data = {\n",
    "        'use_yn': [None],\n",
    "        'table_loc': ['y'],\n",
    "        'category': ['0'],\n",
    "        'db_ip': ['192.168.110.111'],\n",
    "        'db_id': ['DAJEONG'],\n",
    "        'db_pw': ['dajeong'],\n",
    "        'db_port': ['1521'],\n",
    "        'db_name': ['orcl'],\n",
    "        'folder_path': [None]\n",
    "    }\n",
    "    locDf = pd.DataFrame(data)\n",
    "    \n",
    "# 매개변수가 파일 이름일 때\n",
    "else :\n",
    "    isFile = 1\n",
    "    inputFileName = inputParam.split('.')[0]\n",
    "    inputFileExtension = inputParam.split('.')[1]\n",
    "    print(f\"파일이름 : {inputFileName}, 파일확장자 : {inputFileExtension}\")"
   ]
  },
  {
   "cell_type": "code",
   "execution_count": 19,
   "id": "cc6b25de-1a03-460c-ba78-93dd93ac7fca",
   "metadata": {},
   "outputs": [],
   "source": [
    "if isFile == 0:\n",
    "    for index, row in locDf.iterrows():\n",
    "        engine = set_engine(row.CATEGORY, row)\n",
    "\n",
    "    if table_exists(tableName, engine):\n",
    "        selquery = sa.text(\"SELECT * FROM {}\".format(tableName))\n",
    "        pt = pd.read_sql_query(selquery, engine)\n",
    "\n",
    "        # csv파일이 저장될 DB정보\n",
    "        useDf = pt[pt['use_yn'] == 'y'].copy()\n",
    "    else:\n",
    "        print(f\"{tableName}이 존재하지 않습니다. 예제 파일을 생성합니다.\")\n",
    "        makeExParameterFile()\n",
    "        sys.exit()"
   ]
  },
  {
   "cell_type": "code",
   "execution_count": 28,
   "id": "24701988-c56b-4388-80d4-347d8ee7b42c",
   "metadata": {},
   "outputs": [],
   "source": [
    "if isFile == 1:\n",
    "    if inputFileExtension == 'xlsx':\n",
    "        pt = pd.read_excel(\"../param/\" + inputFileName + \".\" + inputFileExtension, engine=\"openpyxl\")\n",
    "    elif inputFileExtension == 'csv':\n",
    "        pt = pd.read_csv(\"../param/\" + inputFileName + \".\" + inputFileExtension)\n",
    "\n",
    "    # 전처리\n",
    "    pt = pretreatment(pt)\n",
    "    pt.to_sql(name=inputFileName, if_exists=\"replace\", con=engine, index=False)\n",
    "        \n",
    "    # 파라미터테이블이 저장될 DB정보\n",
    "    locDf = pt[pt['table_loc'] == 'y'].copy()\n",
    "    \n",
    "    # csv파일이 저장될 DB정보\n",
    "    useDf = pt[pt['use_yn'] == 'y'].copy()"
   ]
  },
  {
   "cell_type": "markdown",
   "id": "e738abb9-a8d5-4efc-88f7-9df4d312b1c4",
   "metadata": {},
   "source": [
    "# csv파일 DB에 저장하기"
   ]
  },
  {
   "cell_type": "code",
   "execution_count": 29,
   "id": "73166dcb-1dbc-46d0-a14a-5f534e8d280b",
   "metadata": {},
   "outputs": [
    {
     "name": "stdout",
     "output_type": "stream",
     "text": [
      "cars.csv 인코딩(utf-8) 성공.\n",
      "cars_kdj 테이블 생성 성공.\n",
      "customer.csv 인코딩(utf-8) 성공.\n",
      "customer_kdj 테이블 생성 성공.\n",
      "customerdata.csv 인코딩(utf-8) 성공.\n",
      "customerdata_kdj 테이블 생성 성공.\n"
     ]
    }
   ],
   "source": [
    "for index, row in useDf.iterrows():\n",
    "    engine = set_engine(row.category, row)\n",
    "    folderPath = row.folder_path.replace(\",\",\".\") + \"/\"\n",
    "    try:\n",
    "        if not os.path.exists(folderPath):\n",
    "            raise FileNotFoundError(\"폴더가 존재하지 않습니다.\")\n",
    "        fileList = os.listdir(folderPath)\n",
    "        if not fileList:\n",
    "            raise FileNotFoundError(\"폴더가 비어있습니다.\")\n",
    "    except FileNotFoundError as e:\n",
    "        print(e)\n",
    "        sys.exit()\n",
    "    except Exception as e:\n",
    "        print(\"예상치 못한 오류가 발생했습니다:\", e)\n",
    "        sys.exit()\n",
    "\n",
    "    # 파일리스트 순회하면서 인코딩하고 create table\n",
    "    for file in fileList:\n",
    "        filePath = folderPath + file\n",
    "        fileName = file.split('.')[0]\n",
    "        tableName = fileName+\"_kdj\"\n",
    "        encodings = ['utf-8', 'cp949', 'ms949', 'euc-kr']\n",
    "        for encoding in encodings:\n",
    "            try:\n",
    "                indata = pd.read_csv(filePath, encoding = encoding)\n",
    "                print(f\"{file} 인코딩({encoding}) 성공.\")\n",
    "                break\n",
    "            except UnicodeDecodeError:\n",
    "                print(f\"{file} 인코딩({encoding}) 실패.\")\n",
    "        else:\n",
    "            raise Exception(\"모든 인코딩 실패\")\n",
    "\n",
    "        floatColumns = list(indata.columns[indata.dtypes == 'float'])\n",
    "        floatLen = 200\n",
    "        typeDict={}\n",
    "        for i in range(0, len(floatColumns)):\n",
    "            typeDict[ floatColumns[i] ] = sa.types.VARCHAR(floatLen)\n",
    "        indata.to_sql(name=tableName, if_exists=\"replace\", con=engine, dtype=typeDict, index=False)\n",
    "        print(f\"{tableName} 테이블 생성 성공.\")"
   ]
  }
 ],
 "metadata": {
  "kernelspec": {
   "display_name": "Python 3 (ipykernel)",
   "language": "python",
   "name": "python3"
  },
  "language_info": {
   "codemirror_mode": {
    "name": "ipython",
    "version": 3
   },
   "file_extension": ".py",
   "mimetype": "text/x-python",
   "name": "python",
   "nbconvert_exporter": "python",
   "pygments_lexer": "ipython3",
   "version": "3.10.11"
  }
 },
 "nbformat": 4,
 "nbformat_minor": 5
}
